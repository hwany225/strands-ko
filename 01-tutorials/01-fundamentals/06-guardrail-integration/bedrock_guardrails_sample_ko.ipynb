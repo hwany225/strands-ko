{
 "cells": [
  {
   "cell_type": "markdown",
   "metadata": {},
   "source": [
    "\n",
    "\n",
    "# Amazon Bedrock Guardrails로 Strands Agents 보호하기\n",
    "\n",
    "## 개요\n",
    "이 예제에서는 [Amazon Bedrock Guardrails](https://aws.amazon.com/bedrock/guardrails/)를 사용하여 기본 Amazon Bedrock LLM 모델을 보호하는 첫 번째 Strands Agent를 만드는 방법을 안내합니다.\n",
    "\n",
    "Amazon Bedrock Guardrails는 대규모로 생성형 AI 애플리케이션을 안전하게 구축하는 데 도움이 되는 구성 가능한 보호 장치를 제공합니다. Amazon Bedrock에서 지원되는 FM, 미세 조정된 모델 및 Amazon Bedrock 외부에서 호스팅되는 모델을 포함한 광범위한 기반 모델(FM)에서 사용되는 일관되고 표준적인 접근 방식을 통해 Guardrails는 업계 최고의 안전 보호 기능을 제공합니다.\n",
    "\n",
    "Strands Agents를 사용하면 Amazon Bedrock 모델에 Amazon Bedrock Guardrails를 직접 추가할 수 있습니다. Amazon Bedrock 모델을 사용하지 않는 경우 [Apply Guardrail API](https://docs.aws.amazon.com/bedrock/latest/userguide/guardrails-use-independent-api.html)를 사용하여 모든 모델을 보호할 수 있습니다. 이 경우 방금 배운 고급 처리 기능을 사용하여 파이프라인을 구축해야 합니다.\n",
    "\n",
    "\n",
    "## 에이전트 세부사항\n",
    "<div style=\"float: left; margin-right: 20px;\">\n",
    "    \n",
    "|기능                |설명                                               |\n",
    "|--------------------|---------------------------------------------------|\n",
    "|사용된 AWS 서비스    |Amazon Bedrock Guardrails                          |\n",
    "|생성된 사용자 정의 도구|get_customer_profile, list_customer_purchases, list_customer_tickets, update_customer_profile|\n",
    "|에이전트 구조        |단일 에이전트 아키텍처                              |\n",
    "\n",
    "</div>\n"
   ]
  },
  {
   "cell_type": "markdown",
   "metadata": {},
   "source": [
    "## 아키텍처\n",
    "\n",
    "<div style=\"text-align:left\">\n",
    "    <img src=\"images/architecture.png\" width=\"85%\" />\n",
    "</div>\n",
    "\n",
    "## 주요 기능\n",
    "* **단일 에이전트 아키텍처**: 이 예제는 내장 도구와 사용자 정의 도구와 상호작용하는 단일 에이전트를 생성합니다\n",
    "* **사용자 정의 도구**: 자신만의 도구를 만드는 방법을 배웁니다\n",
    "* **기본 LLM으로서의 Amazon Bedrock 모델**: Amazon Bedrock의 Anthropic Claude 3.7을 기본 LLM 모델로 사용합니다\n",
    "* **기본 보호 장치로서의 Amazon Bedrock Guardrails**: Amazon Bedrock Guardrails를 사용하여 에이전트 애플리케이션을 보호합니다"
   ]
  },
  {
   "cell_type": "markdown",
   "metadata": {},
   "source": [
    "## 설정 및 사전 요구사항\n",
    "\n",
    "### 사전 요구사항\n",
    "* Python 3.10+\n",
    "* AWS 계정\n",
    "* Amazon Bedrock에서 Anthropic Claude 3.7 활성화\n",
    "* Amazon Bedrock Guardrails 생성 권한이 있는 IAM 역할\n",
    "\n",
    "이제 Strands Agent에 필요한 패키지들을 설치하겠습니다"
   ]
  },
  {
   "cell_type": "code",
   "execution_count": null,
   "metadata": {},
   "outputs": [],
   "source": [
    "!pip install -U -r requirements.txt"
   ]
  },
  {
   "cell_type": "markdown",
   "metadata": {},
   "source": [
    "### 의존성 패키지 가져오기\n",
    "\n",
    "이제 의존성 패키지들을 가져오겠습니다"
   ]
  },
  {
   "cell_type": "code",
   "execution_count": null,
   "metadata": {},
   "outputs": [],
   "source": [
    "import json\n",
    "import boto3\n",
    "import os\n",
    "from strands import Agent, tool\n",
    "from strands.models import BedrockModel\n",
    "from customer_profile_tools import get_customer_profile, list_customer_purchases, list_customer_tickets, update_customer_profile\n",
    "from customer_profiles import CustomerProfileManager, generate_synthetic_profiles"
   ]
  },
  {
   "cell_type": "markdown",
   "metadata": {},
   "source": [
    "### 데이터 생성\n",
    "\n",
    "고객 서비스 에이전트를 시뮬레이션하기 위해 합성 고객 프로필을 생성하겠습니다."
   ]
  },
  {
   "cell_type": "code",
   "execution_count": null,
   "metadata": {},
   "outputs": [],
   "source": [
    "# 합성 고객 프로필 생성\n",
    "print(\"합성 고객 데이터 생성 중...\")\n",
    "profiles = generate_synthetic_profiles(10)\n",
    "profile_manager = CustomerProfileManager(profiles)\n",
    "print(f\"{len(profiles)}개의 고객 프로필이 생성되었습니다.\")"
   ]
  },
  {
   "cell_type": "markdown",
   "metadata": {},
   "source": [
    "### Amazon Bedrock Guardrails 설정\n",
    "\n",
    "고객 서비스 시나리오에 적합한 Guardrails를 생성하겠습니다."
   ]
  },
  {
   "cell_type": "code",
   "execution_count": null,
   "metadata": {},
   "outputs": [],
   "source": [
    "def create_customer_service_guardrail():\n",
    "    \"\"\"고객 서비스용 Bedrock Guardrail을 생성합니다.\"\"\"\n",
    "    bedrock_client = boto3.client('bedrock')\n",
    "    \n",
    "    guardrail_config = {\n",
    "        'name': 'customer-service-guardrail',\n",
    "        'description': '고객 서비스 에이전트를 위한 보호 장치',\n",
    "        'topicPolicyConfig': {\n",
    "            'topicsConfig': [\n",
    "                {\n",
    "                    'name': 'sensitive-info',\n",
    "                    'definition': '신용카드 번호, 주민등록번호, 비밀번호 등 민감한 개인정보',\n",
    "                    'examples': [\n",
    "                        '신용카드 번호를 알려주세요',\n",
    "                        '비밀번호가 뭐예요?',\n",
    "                        '주민등록번호를 말해주세요'\n",
    "                    ],\n",
    "                    'type': 'DENY'\n",
    "                }\n",
    "            ]\n",
    "        },\n",
    "        'contentPolicyConfig': {\n",
    "            'filtersConfig': [\n",
    "                {\n",
    "                    'type': 'HATE',\n",
    "                    'inputStrength': 'HIGH',\n",
    "                    'outputStrength': 'HIGH'\n",
    "                },\n",
    "                {\n",
    "                    'type': 'VIOLENCE',\n",
    "                    'inputStrength': 'HIGH',\n",
    "                    'outputStrength': 'HIGH'\n",
    "                }\n",
    "            ]\n",
    "        },\n",
    "        'wordPolicyConfig': {\n",
    "            'wordsConfig': [\n",
    "                {\n",
    "                    'text': '바보'\n",
    "                },\n",
    "                {\n",
    "                    'text': '멍청이'\n",
    "                }\n",
    "            ],\n",
    "            'managedWordListsConfig': [\n",
    "                {\n",
    "                    'type': 'PROFANITY'\n",
    "                }\n",
    "            ]\n",
    "        },\n",
    "        'sensitiveInformationPolicyConfig': {\n",
    "            'piiEntitiesConfig': [\n",
    "                {\n",
    "                    'type': 'EMAIL',\n",
    "                    'action': 'BLOCK'\n",
    "                },\n",
    "                {\n",
    "                    'type': 'PHONE',\n",
    "                    'action': 'BLOCK'\n",
    "                },\n",
    "                {\n",
    "                    'type': 'CREDIT_DEBIT_CARD_NUMBER',\n",
    "                    'action': 'BLOCK'\n",
    "                }\n",
    "            ]\n",
    "        },\n",
    "        'blockedInputMessaging': '죄송합니다. 해당 요청은 처리할 수 없습니다. 다른 방법으로 도움을 드릴까요?',\n",
    "        'blockedOutputsMessaging': '죄송합니다. 적절한 응답을 제공할 수 없습니다. 다른 질문이 있으시면 말씀해주세요.'\n",
    "    }\n",
    "    \n",
    "    try:\n",
    "        response = bedrock_client.create_guardrail(**guardrail_config)\n",
    "        guardrail_id = response['guardrailId']\n",
    "        print(f\"Guardrail 생성됨: {guardrail_id}\")\n",
    "        return guardrail_id\n",
    "    except Exception as e:\n",
    "        print(f\"Guardrail 생성 오류: {e}\")\n",
    "        return None\n",
    "\n",
    "# Guardrail 생성\n",
    "guardrail_id = create_customer_service_guardrail()"
   ]
  },
  {
   "cell_type": "markdown",
   "metadata": {},
   "source": [
    "### Guardrails가 적용된 에이전트 생성\n",
    "\n",
    "이제 Amazon Bedrock Guardrails가 적용된 고객 서비스 에이전트를 생성하겠습니다."
   ]
  },
  {
   "cell_type": "code",
   "execution_count": null,
   "metadata": {},
   "outputs": [],
   "source": [
    "# 시스템 프롬프트 정의\n",
    "system_prompt = \"\"\"\n",
    "당신은 도움이 되는 고객 서비스 담당자입니다. 다음 지침을 따라주세요:\n",
    "\n",
    "1. 항상 정중하고 전문적으로 응답하세요\n",
    "2. 고객의 문제를 해결하기 위해 최선을 다하세요\n",
    "3. 민감한 정보(신용카드 번호, 비밀번호 등)는 절대 요청하거나 공유하지 마세요\n",
    "4. 사용 가능한 도구를 활용하여 고객 정보를 조회하고 업데이트하세요\n",
    "5. 해결할 수 없는 문제는 상급자에게 에스컬레이션하겠다고 안내하세요\n",
    "\n",
    "사용 가능한 기능:\n",
    "- 고객 프로필 조회\n",
    "- 구매 이력 확인\n",
    "- 고객 지원 티켓 조회\n",
    "- 고객 프로필 업데이트\n",
    "\"\"\"\n",
    "\n",
    "# Guardrails가 적용된 Bedrock 모델 구성\n",
    "if guardrail_id:\n",
    "    model = BedrockModel(\n",
    "        model_id=\"us.anthropic.claude-3-7-sonnet-20250219-v1:0\",\n",
    "        guardrail_config={\n",
    "            \"guardrailIdentifier\": guardrail_id,\n",
    "            \"guardrailVersion\": \"DRAFT\"\n",
    "        }\n",
    "    )\n",
    "else:\n",
    "    # Guardrail 생성에 실패한 경우 기본 모델 사용\n",
    "    model = BedrockModel(\n",
    "        model_id=\"us.anthropic.claude-3-7-sonnet-20250219-v1:0\"\n",
    "    )\n",
    "\n",
    "# 고객 서비스 에이전트 생성\n",
    "customer_service_agent = Agent(\n",
    "    model=model,\n",
    "    system_prompt=system_prompt,\n",
    "    tools=[\n",
    "        get_customer_profile,\n",
    "        list_customer_purchases,\n",
    "        list_customer_tickets,\n",
    "        update_customer_profile\n",
    "    ],\n",
    ")\n",
    "\n",
    "print(\"✅ Guardrails가 적용된 고객 서비스 에이전트가 생성되었습니다.\")"
   ]
  },
  {
   "cell_type": "markdown",
   "metadata": {},
   "source": [
    "## 에이전트 테스트\n",
    "\n",
    "Guardrails가 제대로 작동하는지 테스트해보겠습니다."
   ]
  },
  {
   "cell_type": "code",
   "execution_count": null,
   "metadata": {},
   "outputs": [],
   "source": [
    "# 테스트 1: 정상적인 고객 서비스 요청\n",
    "print(\"=== 테스트 1: 정상적인 요청 ===\")\n",
    "response = customer_service_agent(\"안녕하세요. 제 계정 정보를 확인하고 싶습니다. 고객 ID는 CUST001입니다.\")\n",
    "print(response)\n",
    "print()"
   ]
  },
  {
   "cell_type": "code",
   "execution_count": null,
   "metadata": {},
   "outputs": [],
   "source": [
    "# 테스트 2: 민감한 정보 요청 (Guardrail이 차단해야 함)\n",
    "print(\"=== 테스트 2: 민감한 정보 요청 ===\")\n",
    "try:\n",
    "    response = customer_service_agent(\"신용카드 번호를 알려주세요.\")\n",
    "    print(response)\n",
    "except Exception as e:\n",
    "    print(f\"Guardrail에 의해 차단됨: {e}\")\n",
    "print()"
   ]
  },
  {
   "cell_type": "code",
   "execution_count": null,
   "metadata": {},
   "outputs": [],
   "source": [
    "# 테스트 3: 부적절한 언어 사용 (Guardrail이 차단해야 함)\n",
    "print(\"=== 테스트 3: 부적절한 언어 ===\")\n",
    "try:\n",
    "    response = customer_service_agent(\"당신들은 정말 바보 같은 서비스를 제공하네요.\")\n",
    "    print(response)\n",
    "except Exception as e:\n",
    "    print(f\"Guardrail에 의해 차단됨: {e}\")\n",
    "print()"
   ]
  },
  {
   "cell_type": "code",
   "execution_count": null,
   "metadata": {},
   "outputs": [],
   "source": [
    "# 테스트 4: 고객 구매 이력 조회\n",
    "print(\"=== 테스트 4: 구매 이력 조회 ===\")\n",
    "response = customer_service_agent(\"CUST001 고객의 최근 구매 이력을 보여주세요.\")\n",
    "print(response)\n",
    "print()"
   ]
  },
  {
   "cell_type": "markdown",
   "metadata": {},
   "source": [
    "## 정리\n",
    "\n",
    "테스트가 완료되면 생성된 Guardrail을 정리합니다."
   ]
  },
  {
   "cell_type": "code",
   "execution_count": null,
   "metadata": {},
   "outputs": [],
   "source": [
    "def cleanup_guardrail(guardrail_id):\n",
    "    \"\"\"생성된 Guardrail을 삭제합니다.\"\"\"\n",
    "    if not guardrail_id:\n",
    "        return\n",
    "    \n",
    "    try:\n",
    "        bedrock_client = boto3.client('bedrock')\n",
    "        bedrock_client.delete_guardrail(guardrailIdentifier=guardrail_id)\n",
    "        print(f\"✅ Guardrail {guardrail_id}이(가) 삭제되었습니다.\")\n",
    "    except Exception as e:\n",
    "        print(f\"Guardrail 삭제 오류: {e}\")\n",
    "\n",
    "# 정리 (필요시 주석 해제)\n",
    "# cleanup_guardrail(guardrail_id)"
   ]
  },
  {
   "cell_type": "markdown",
   "metadata": {},
   "source": [
    "## 결론\n",
    "\n",
    "이 노트북에서는 Amazon Bedrock Guardrails를 사용하여 Strands Agents를 보호하는 방법을 배웠습니다. 주요 학습 내용:\n",
    "\n",
    "1. **Guardrails 구성**: 고객 서비스 시나리오에 맞는 보호 정책 설정\n",
    "2. **에이전트 통합**: Guardrails가 적용된 Bedrock 모델로 에이전트 생성\n",
    "3. **안전성 테스트**: 민감한 정보 요청과 부적절한 언어 차단 확인\n",
    "4. **정상 작동 확인**: 적절한 요청은 정상적으로 처리되는지 확인\n",
    "\n",
    "### 활용 방안\n",
    "\n",
    "- **고객 서비스**: 민감한 정보 보호와 전문적인 응답 보장\n",
    "- **교육 플랫폼**: 부적절한 콘텐츠 차단\n",
    "- **헬스케어**: 의료 정보 보호 및 규정 준수\n",
    "- **금융 서비스**: 금융 정보 보안 및 규제 요구사항 충족\n",
    "\n",
    "Amazon Bedrock Guardrails를 통해 안전하고 신뢰할 수 있는 AI 에이전트를 구축할 수 있습니다!"
   ]
  }
 ],
 "metadata": {
  "kernelspec": {
   "display_name": "Python 3 (ipykernel)",\n",
   "language": "python",\n",
   "name": "python3"\n  },\n  "language_info": {\n   "codemirror_mode": {\n    "name": "ipython",\n    "version": 3\n   },\n   "file_extension": ".py",\n   "mimetype": "text/x-python",\n   "name": "python",\n   "nbconvert_exporter": "python",\n   "pygments_lexer": "ipython3",\n   "version": "3.12.9"\n  }\n },\n "nbformat": 4,\n "nbformat_minor": 4\n}
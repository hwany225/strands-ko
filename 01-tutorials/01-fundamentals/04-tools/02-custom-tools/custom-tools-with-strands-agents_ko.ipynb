{
 "cells": [
  {
   "cell_type": "markdown",
   "id": "8ab9a6cf-bdfd-4204-9d60-21bf65cc238c",
   "metadata": {
    "pycharm": {
     "name": "#%% md\n"
    }
   },
   "source": [
    "# Strands Agents에 사용자 정의 도구 추가하기\n",
    "\n",
    "## 개요\n",
    "이 예제에서는 Strands Agents를 사용하여 사용자 정의 도구를 만드는 다양한 방법을 안내합니다. 로컬 SQLite 데이터베이스에 연결하여 데이터 작업을 수행하는 개인 어시스턴트 사용 사례를 구축하겠습니다. 보너스로 `BedrockModel` 클래스의 `thinking` 필드를 사용하여 Claude Sonnet 3.7의 추론 기능 사용법도 안내하겠습니다.\n",
    "\n",
    "## 에이전트 세부사항\n",
    "<div style=\"float: left; margin-right: 20px;\">\n",
    "    \n",
    "|기능                |설명                                               |\n",
    "|--------------------|---------------------------------------------------|\n",
    "|사용된 네이티브 도구 |current_time, calculator                           |\n",
    "|생성된 사용자 정의 도구|create_appointment, list_appointments              |\n",
    "|에이전트 구조        |단일 에이전트 아키텍처                              |\n",
    "\n",
    "</div>\n"
   ]
  },
  {
   "cell_type": "markdown",
   "id": "8d0244b2-07af-4673-a36c-d7d1a37826f4",
   "metadata": {
    "pycharm": {
     "name": "#%% md\n"
    }
   },
   "source": [
    "## 아키텍처\n",
    "\n",
    "<div style=\"text-align:left\">\n",
    "    <img src=\"images/architecture.png\" width=\"85%\" />\n",
    "</div>\n",
    "\n",
    "## 주요 기능\n",
    "* **단일 에이전트 아키텍처**: 이 예제는 내장 도구와 사용자 정의 도구와 상호작용하는 단일 에이전트를 생성합니다\n",
    "* **내장 도구**: Strands Agent의 도구 사용법을 배웁니다\n",
    "* **사용자 정의 도구**: 자신만의 도구를 만드는 방법을 배웁니다\n",
    "* **기본 LLM으로서의 Bedrock 모델**: Amazon Bedrock의 Anthropic Claude 3.7을 기본 LLM 모델로 사용합니다"
   ]
  },
  {
   "cell_type": "markdown",
   "id": "62b0823b-d4e0-495d-a75c-50cbada8e0b0",
   "metadata": {
    "pycharm": {
     "name": "#%% md\n"
    }
   },
   "source": [
    "## 설정 및 사전 요구사항\n",
    "\n",
    "### 사전 요구사항\n",
    "* Python 3.10+\n",
    "* AWS 계정\n",
    "* Amazon Bedrock에서 Anthropic Claude 3.7 활성화, [가이드](https://docs.aws.amazon.com/bedrock/latest/userguide/model-access.html)\n",
    "* Amazon Bedrock Knowledge Base, Amazon S3 버킷 및 Amazon DynamoDB 생성 권한이 있는 IAM 역할\n",
    "\n",
    "이제 Strands Agent에 필요한 패키지들을 설치하겠습니다"
   ]
  },
  {
   "cell_type": "code",
   "execution_count": null,
   "id": "cd150109-40be-452d-9fae-c0653205ccae",
   "metadata": {
    "pycharm": {
     "name": "#%%\n"
    }
   },
   "outputs": [],
   "source": [
    "# 사전 요구사항 설치\n",
    "!pip install -r requirements.txt"
   ]
  },
  {
   "cell_type": "markdown",
   "id": "80ef5b1f-7d01-42e9-a558-891792b1c5b7",
   "metadata": {
    "pycharm": {
     "name": "#%% md\n"
    }
   },
   "source": [
    "### 의존성 패키지 가져오기\n",
    "\n",
    "이제 의존성 패키지들을 가져오겠습니다"
   ]
  },
  {
   "cell_type": "code",
   "execution_count": null,
   "id": "7092f7af-01e7-469d-96d0-3c80987c5183",
   "metadata": {
    "pycharm": {
     "name": "#%%\n"
    }
   },
   "outputs": [],
   "source": [
    "import json\n",
    "import sqlite3\n",
    "import uuid\n",
    "from datetime import datetime\n",
    "\n",
    "from strands import Agent, tool\n",
    "from strands.models import BedrockModel"
   ]
  },
  {
   "cell_type": "markdown",
   "id": "c5072db6-071b-4d06-909b-23fd38981b17",
   "metadata": {
    "pycharm": {
     "name": "#%% md\n"
    }
   },
   "source": [
    "## 사용자 정의 도구 정의\n",
    "다음으로 로컬 SQLite 데이터베이스와 상호작용하는 사용자 정의 도구들을 정의하겠습니다:\n",
    "* **create_appointment**: 고유 ID, 날짜, 위치, 제목 및 설명이 있는 새 개인 약속 생성\n",
    "* **list_appointment**: 사용 가능한 모든 약속 나열\n",
    "* **update_appointments**: 약속 ID를 기반으로 약속 업데이트"
   ]
  },
  {
   "cell_type": "markdown",
   "id": "540b2f03-9935-4b56-a9da-6f36c6f00e9a",
   "metadata": {
    "pycharm": {
     "name": "#%% md\n"
    }
   },
   "source": [
    "### 에이전트와 같은 파일에서 도구 정의\n",
    "\n",
    "Strands Agents SDK로 도구를 정의하는 방법은 여러 가지가 있습니다. 첫 번째는 함수에 `@tool` 데코레이터를 추가하고 문서를 제공하는 것입니다. 이 경우 Strands Agents는 함수 문서, 타이핑 및 인수를 사용하여 에이전트에 도구를 제공합니다. 이 경우 에이전트와 같은 파일에서 도구를 정의할 수도 있습니다"
   ]
  },
  {
   "cell_type": "code",
   "execution_count": null,
   "id": "example-tool",
   "metadata": {},
   "outputs": [],
   "source": [
    "# SQLite 데이터베이스 초기화\n",
    "def init_database():\n",
    "    \"\"\"SQLite 데이터베이스와 테이블을 초기화합니다.\"\"\"\n",
    "    conn = sqlite3.connect('appointments.db')\n",
    "    cursor = conn.cursor()\n",
    "    \n",
    "    cursor.execute('''\n",
    "        CREATE TABLE IF NOT EXISTS appointments (\n",
    "            id TEXT PRIMARY KEY,\n",
    "            title TEXT NOT NULL,\n",
    "            description TEXT,\n",
    "            date TEXT NOT NULL,\n",
    "            location TEXT,\n",
    "            created_at TEXT NOT NULL\n",
    "        )\n",
    "    ''')\n",
    "    \n",
    "    conn.commit()\n",
    "    conn.close()\n",
    "\n",
    "# 데이터베이스 초기화\n",
    "init_database()\n",
    "\n",
    "@tool\n",
    "def create_appointment(title: str, date: str, description: str = \"\", location: str = \"\") -> str:\n",
    "    \"\"\"새로운 약속을 생성합니다.\n",
    "    \n",
    "    Args:\n",
    "        title: 약속 제목\n",
    "        date: 약속 날짜 (YYYY-MM-DD HH:MM 형식)\n",
    "        description: 약속 설명 (선택사항)\n",
    "        location: 약속 장소 (선택사항)\n",
    "    \n",
    "    Returns:\n",
    "        약속 생성 결과 메시지\n",
    "    \"\"\"\n",
    "    try:\n",
    "        appointment_id = str(uuid.uuid4())[:8]\n",
    "        created_at = datetime.now().isoformat()\n",
    "        \n",
    "        conn = sqlite3.connect('appointments.db')\n",
    "        cursor = conn.cursor()\n",
    "        \n",
    "        cursor.execute('''\n",
    "            INSERT INTO appointments (id, title, description, date, location, created_at)\n",
    "            VALUES (?, ?, ?, ?, ?, ?)\n",
    "        ''', (appointment_id, title, description, date, location, created_at))\n",
    "        \n",
    "        conn.commit()\n",
    "        conn.close()\n",
    "        \n",
    "        return f\"약속이 성공적으로 생성되었습니다. ID: {appointment_id}\"\n",
    "    except Exception as e:\n",
    "        return f\"약속 생성 중 오류 발생: {str(e)}\"\n",
    "\n",
    "@tool\n",
    "def list_appointments() -> str:\n",
    "    \"\"\"모든 약속을 나열합니다.\n",
    "    \n",
    "    Returns:\n",
    "        모든 약속의 목록\n",
    "    \"\"\"\n",
    "    try:\n",
    "        conn = sqlite3.connect('appointments.db')\n",
    "        cursor = conn.cursor()\n",
    "        \n",
    "        cursor.execute('SELECT * FROM appointments ORDER BY date')\n",
    "        appointments = cursor.fetchall()\n",
    "        \n",
    "        conn.close()\n",
    "        \n",
    "        if not appointments:\n",
    "            return \"약속이 없습니다.\"\n",
    "        \n",
    "        result = \"약속 목록:\\n\"\n",
    "        for apt in appointments:\n",
    "            result += f\"ID: {apt[0]}, 제목: {apt[1]}, 날짜: {apt[3]}, 장소: {apt[4]}\\n\"\n",
    "        \n",
    "        return result\n",
    "    except Exception as e:\n",
    "        return f\"약속 목록 조회 중 오류 발생: {str(e)}\""
   ]
  },
  {
   "cell_type": "markdown",
   "id": "agent-creation",
   "metadata": {},
   "source": [
    "## 에이전트 생성\n",
    "\n",
    "이제 사용자 정의 도구와 내장 도구를 모두 사용하는 에이전트를 생성하겠습니다."
   ]
  },
  {
   "cell_type": "code",
   "execution_count": null,
   "id": "create-agent",
   "metadata": {},
   "outputs": [],
   "source": [
    "from strands_tools import current_time, calculator\n",
    "\n",
    "# 시스템 프롬프트 정의\n",
    "system_prompt = \"\"\"\n",
    "당신은 도움이 되는 개인 어시스턴트입니다. 약속 관리, 시간 확인, 계산 등을 도와드릴 수 있습니다.\n",
    "\n",
    "주요 기능:\n",
    "1. 약속 생성, 조회\n",
    "2. 현재 시간 확인\n",
    "3. 계산 수행\n",
    "\n",
    "항상 정중하고 도움이 되는 방식으로 응답해주세요.\n",
    "\"\"\"\n",
    "\n",
    "# Bedrock 모델 구성\n",
    "model = BedrockModel(\n",
    "    model_id=\"us.anthropic.claude-3-7-sonnet-20250219-v1:0\",\n",
    "    additional_request_fields={\n",
    "        \"thinking\": {\n",
    "            \"type\": \"disabled\",  # 추론 기능 비활성화\n",
    "        }\n",
    "    },\n",
    ")\n",
    "\n",
    "# 에이전트 생성\n",
    "agent = Agent(\n",
    "    model=model,\n",
    "    system_prompt=system_prompt,\n",
    "    tools=[create_appointment, list_appointments, current_time, calculator],\n",
    ")"
   ]
  },
  {
   "cell_type": "markdown",
   "id": "test-agent",
   "metadata": {},
   "source": [
    "## 에이전트 테스트\n",
    "\n",
    "이제 에이전트를 테스트해보겠습니다."
   ]
  },
  {
   "cell_type": "code",
   "execution_count": null,
   "id": "test-1",
   "metadata": {},
   "outputs": [],
   "source": [
    "# 테스트 1: 약속 생성\n",
    "response = agent(\"내일 오후 2시에 의사 약속을 만들어주세요. 장소는 서울대병원입니다.\")\n",
    "print(response)"
   ]
  },
  {
   "cell_type": "code",
   "execution_count": null,
   "id": "test-2",
   "metadata": {},
   "outputs": [],
   "source": [
    "# 테스트 2: 약속 목록 조회\n",
    "response = agent(\"내 약속 목록을 보여주세요.\")\n",
    "print(response)"
   ]
  },
  {
   "cell_type": "code",
   "execution_count": null,
   "id": "test-3",
   "metadata": {},
   "outputs": [],
   "source": [
    "# 테스트 3: 현재 시간 확인\n",
    "response = agent(\"지금 몇 시인가요?\")\n",
    "print(response)"
   ]
  },
  {
   "cell_type": "code",
   "execution_count": null,
   "id": "test-4",
   "metadata": {},
   "outputs": [],
   "source": [
    "# 테스트 4: 계산 수행\n",
    "response = agent(\"25 곱하기 4는 얼마인가요?\")\n",
    "print(response)"
   ]
  },
  {
   "cell_type": "markdown",
   "id": "conclusion",
   "metadata": {},
   "source": [
    "## 결론\n",
    "\n",
    "이 노트북에서는 Strands Agents를 사용하여 사용자 정의 도구를 만드는 방법을 배웠습니다. 주요 학습 내용:\n",
    "\n",
    "1. **@tool 데코레이터 사용**: 함수를 에이전트 도구로 변환\n",
    "2. **데이터베이스 통합**: SQLite와 연동하는 도구 생성\n",
    "3. **내장 도구와 결합**: 사용자 정의 도구와 내장 도구를 함께 사용\n",
    "4. **에이전트 구성**: 시스템 프롬프트와 모델 설정\n",
    "\n",
    "이제 자신만의 사용자 정의 도구를 만들어 에이전트의 기능을 확장할 수 있습니다!"
   ]
  }
 ],
 "metadata": {
  "kernelspec": {
   "display_name": "Python 3 (ipykernel)",\n",
   "language": "python",\n",
   "name": "python3"\n",
  },\n",
  "language_info": {\n",
   "codemirror_mode": {\n",
    "name": "ipython",\n",
    "version": 3\n",
   },\n",
   "file_extension": ".py",\n",
   "mimetype": "text/x-python",\n",
   "name": "python",\n",
   "nbconvert_exporter": "python",\n",
   "pygments_lexer": "ipython3",\n",
   "version": "3.12.9"\n",
  }\n },\n "nbformat": 4,\n "nbformat_minor": 5\n}
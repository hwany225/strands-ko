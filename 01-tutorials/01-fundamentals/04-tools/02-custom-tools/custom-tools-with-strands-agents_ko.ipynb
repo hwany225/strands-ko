{
 "cells": [
  {
   "cell_type": "markdown",
   "id": "8ab9a6cf-bdfd-4204-9d60-21bf65cc238c",
   "metadata": {
    "pycharm": {
     "name": "#%% md\n"
    }
   },
   "source": [
    "# Strands Agents에 사용자 정의 도구 추가하기\n",
    "\n",
    "## 개요\n",
    "이 예제에서는 Strands Agents를 사용하여 사용자 정의 도구를 만드는 다양한 방법을 안내합니다. 로컬 SQLite 데이터베이스에 연결하여 데이터 작업을 수행하는 개인 비서 사용 사례를 구축하겠습니다. 보너스로 `BedrockModel` 클래스의 `thinking` 필드를 사용하여 Claude Sonnet 3.7의 추론 기능 사용법도 안내하겠습니다.\n",
    "\n",
    "## 에이전트 세부사항\n",
    "<div style=\"float: left; margin-right: 20px;\">\n",
    "    \n",
    "|기능                |설명                                               |\n",
    "|--------------------|---------------------------------------------------|\n",
    "|사용된 네이티브 도구 |current_time, calculator                           |\n",
    "|생성된 사용자 정의 도구|create_appointment, list_appointments              |\n",
    "|에이전트 구조        |단일 에이전트 아키텍처                              |\n",
    "\n",
    "</div>\n"
   ]
  },
  {
   "cell_type": "markdown",
   "id": "8d0244b2-07af-4673-a36c-d7d1a37826f4",
   "metadata": {
    "pycharm": {
     "name": "#%% md\n"
    }
   },
   "source": [
    "## 아키텍처\n",
    "\n",
    "<div style=\"text-align:left\">\n",
    "    <img src=\"images/architecture.png\" width=\"85%\" />\n",
    "</div>\n",
    "\n",
    "## 주요 기능\n",
    "* **단일 에이전트 아키텍처**: 이 예제는 내장 도구와 사용자 정의 도구와 상호작용하는 단일 에이전트를 생성합니다\n",
    "* **내장 도구**: Strands Agent의 도구 사용법을 배웁니다\n",
    "* **사용자 정의 도구**: 자신만의 도구를 만드는 방법을 배웁니다\n",
    "* **기본 LLM으로서의 Bedrock 모델**: 기본 LLM 모델로 Amazon Bedrock의 Anthropic Claude 3.7을 사용했습니다"
   ]
  },
  {
   "cell_type": "markdown",
   "id": "62b0823b-d4e0-495d-a75c-50cbada8e0b0",
   "metadata": {
    "pycharm": {
     "name": "#%% md\n"
    }
   },
   "source": [
    "## 설정 및 사전 요구사항\n",
    "\n",
    "### 사전 요구사항\n",
    "* Python 3.10+\n",
    "* AWS 계정\n",
    "* Amazon Bedrock에서 Anthropic Claude 3.7 활성화, [가이드](https://docs.aws.amazon.com/bedrock/latest/userguide/model-access.html)\n",
    "* Amazon Bedrock Knowledge Base, Amazon S3 버킷 및 Amazon DynamoDB를 생성할 권한이 있는 IAM 역할\n",
    "\n",
    "이제 Strands Agent에 필요한 패키지들을 설치하겠습니다"
   ]
  },
  {
   "cell_type": "code",
   "execution_count": null,
   "id": "cd150109-40be-452d-9fae-c0653205ccae",
   "metadata": {
    "pycharm": {
     "name": "#%%\n"
    }
   },
   "outputs": [],
   "source": [
    "# 사전 요구사항 설치\n",
    "%pip install -r requirements.txt"
   ]
  },
  {
   "cell_type": "markdown",
   "id": "80ef5b1f-7d01-42e9-a558-891792b1c5b7",
   "metadata": {
    "pycharm": {
     "name": "#%% md\n"
    }
   },
   "source": [
    "### 의존성 패키지 가져오기\n",
    "\n",
    "이제 의존성 패키지들을 가져오겠습니다"
   ]
  },
  {
   "cell_type": "code",
   "execution_count": null,
   "id": "7092f7af-01e7-469d-96d0-3c80987c5183",
   "metadata": {
    "pycharm": {
     "name": "#%%\n"
    }
   },
   "outputs": [],
   "source": [
    "import json\n",
    "import sqlite3\n",
    "import uuid\n",
    "from datetime import datetime\n",
    "\n",
    "from strands import Agent, tool\n",
    "from strands.models import BedrockModel"
   ]
  },
  {
   "cell_type": "markdown",
   "id": "c5072db6-071b-4d06-909b-23fd38981b17",
   "metadata": {
    "pycharm": {
     "name": "#%% md\n"
    }
   },
   "source": [
    "## 사용자 정의 도구 정의\n",
    "다음으로 로컬 SQLite 데이터베이스와 상호작용하기 위한 사용자 정의 도구를 정의해보겠습니다:\n",
    "* **create_appointment**: 고유 ID, 날짜, 위치, 제목 및 설명으로 새 개인 약속 생성\n",
    "* **list_appointment**: 사용 가능한 모든 약속 나열\n",
    "* **update_appointments**: 약속 ID를 기반으로 약속 업데이트"
   ]
  },
  {
   "cell_type": "markdown",
   "id": "540b2f03-9935-4b56-a9da-6f36c6f00e9a",
   "metadata": {
    "pycharm": {
     "name": "#%% md\n"
    }
   },
   "source": [
    "### 에이전트와 같은 파일에서 도구 정의하기\n",
    "\n",
    "Strands Agents SDK로 도구를 정의하는 방법은 여러 가지가 있습니다. 첫 번째 방법은 함수에 `@tool` 데코레이터를 추가하고 문서를 제공하는 것입니다. 이 경우 Strands Agents는 함수 문서, 타이핑 및 인수를 사용하여 에이전트에 도구를 제공합니다. 이 경우 에이전트와 같은 파일에서 도구를 정의할 수도 있습니다"
   ]
  },
  {
   "cell_type": "code",
   "execution_count": null,
   "id": "e7785c6e-0525-4f28-9958-95eb562f07dc",
   "metadata": {
    "pycharm": {
     "name": "#%%\n"
    }
   },
   "outputs": [],
   "source": [
    "@tool\n",
    "def create_appointment(date: str, location: str, title: str, description: str) -> str:\n",
    "    \"\"\"\n",
    "    데이터베이스에 새 개인 약속을 생성합니다.\n",
    "\n",
    "    Args:\n",
    "        date (str): 약속 날짜 및 시간 (형식: YYYY-MM-DD HH:MM).\n",
    "        location (str): 약속 장소.\n",
    "        title (str): 약속 제목.\n",
    "        description (str): 약속 설명.\n",
    "\n",
    "    Returns:\n",
    "        str: 새로 생성된 약속의 ID.\n",
    "\n",
    "    Raises:\n",
    "        ValueError: 날짜 형식이 잘못된 경우.\n",
    "    \"\"\"\n",
    "    # 날짜 형식 검증\n",
    "    try:\n",
    "        datetime.strptime(date, \"%Y-%m-%d %H:%M\")\n",
    "    except ValueError:\n",
    "        raise ValueError(\"날짜는 'YYYY-MM-DD HH:MM' 형식이어야 합니다\")\n",
    "\n",
    "    # 고유 ID 생성\n",
    "    appointment_id = str(uuid.uuid4())\n",
    "\n",
    "    conn = sqlite3.connect(\"appointments.db\")\n",
    "    cursor = conn.cursor()\n",
    "\n",
    "    # appointments 테이블이 없으면 생성\n",
    "    cursor.execute(\n",
    "        \"\"\"\n",
    "    CREATE TABLE IF NOT EXISTS appointments (\n",
    "        id TEXT PRIMARY KEY,\n",
    "        date TEXT,\n",
    "        location TEXT,\n",
    "        title TEXT,\n",
    "        description TEXT\n",
    "    )\n",
    "    \"\"\"\n",
    "    )\n",
    "\n",
    "    cursor.execute(\n",
    "        \"INSERT INTO appointments (id, date, location, title, description) VALUES (?, ?, ?, ?, ?)\",\n",
    "        (appointment_id, date, location, title, description),\n",
    "    )\n",
    "\n",
    "    conn.commit()\n",
    "    conn.close()\n",
    "    return f\"ID {appointment_id}로 약속이 생성되었습니다\""
   ]
  },
  {
   "cell_type": "markdown",
   "id": "d0588544-d3ea-4a17-958e-17e734b098a9",
   "metadata": {
    "pycharm": {
     "name": "#%% md\n"
    }
   },
   "source": [
    "### 모듈 기반 접근 방식으로 도구 정의\n",
    "\n",
    "도구를 독립적인 파일로 정의하고 에이전트에 가져올 수도 있습니다. 이 경우에도 데코레이터 접근 방식을 사용하거나 TOOL_SPEC 딕셔너리를 사용하여 함수를 정의할 수 있습니다. 형식은 도구 사용을 위한 [Amazon Bedrock Converse API](https://docs.aws.amazon.com/bedrock/latest/userguide/tool-use-examples.html)에서 사용하는 것과 유사합니다. 이 경우 필수 매개변수와 성공 및 오류 실행의 반환값을 정의하는 데 더 유연하며 TOOL_SPEC 정의가 작동합니다."
   ]
  },
  {
   "cell_type": "markdown",
   "id": "65e70d34-08b7-44ce-920a-863d293c727d",
   "metadata": {
    "pycharm": {
     "name": "#%% md\n"
    }
   },
   "source": [
    "#### 데코레이터 접근 방식\n",
    "\n",
    "독립적인 파일에서 데코레이터를 사용하여 도구를 정의할 때, 프로세스는 에이전트와 같은 파일에서 하는 것과 매우 유사하지만, 나중에 에이전트 도구를 가져와야 합니다."
   ]
  },
  {
   "cell_type": "code",
   "execution_count": null,
   "id": "824bd53a-2474-4a31-bfd3-415eb4ca4f38",
   "metadata": {
    "pycharm": {
     "name": "#%%\n"
    }
   },
   "outputs": [],
   "source": [
    "%%writefile list_appointments.py\n",
    "import json\n",
    "import sqlite3\n",
    "import os\n",
    "from strands import tool\n",
    "\n",
    "@tool\n",
    "def list_appointments() -> str:\n",
    "    \"\"\"\n",
    "    데이터베이스에서 사용 가능한 모든 약속을 나열합니다.\n",
    "    \n",
    "    Returns:\n",
    "        str: 사용 가능한 약속들\n",
    "    \"\"\"\n",
    "    # 데이터베이스 존재 확인\n",
    "    if not os.path.exists('appointments.db'):\n",
    "        return \"사용 가능한 약속이 없습니다\"\n",
    "    \n",
    "    conn = sqlite3.connect('appointments.db')\n",
    "    conn.row_factory = sqlite3.Row  # 이름으로 컬럼 접근 가능\n",
    "    cursor = conn.cursor()\n",
    "    \n",
    "    # appointments 테이블 존재 확인\n",
    "    try:\n",
    "        cursor.execute(\"SELECT name FROM sqlite_master WHERE type='table' AND name='appointments'\")\n",
    "        if not cursor.fetchone():\n",
    "            conn.close()\n",
    "            return \"사용 가능한 약속이 없습니다\"\n",
    "        \n",
    "        cursor.execute(\"SELECT * FROM appointments ORDER BY date\")\n",
    "        rows = cursor.fetchall()\n",
    "        \n",
    "        # 행을 딕셔너리로 변환\n",
    "        appointments = []\n",
    "        for row in rows:\n",
    "            appointment = {\n",
    "                'id': row['id'],\n",
    "                'date': row['date'],\n",
    "                'location': row['location'],\n",
    "                'title': row['title'],\n",
    "                'description': row['description']\n",
    "            }\n",
    "            appointments.append(appointment)\n",
    "        \n",
    "        conn.close()\n",
    "        return json.dumps(appointments)\n",
    "    \n",
    "    except sqlite3.Error:\n",
    "        conn.close()\n",
    "        return []"
   ]
  },
  {
   "cell_type": "markdown",
   "id": "11873e74-e528-4a44-9879-6761b85a248c",
   "metadata": {
    "pycharm": {
     "name": "#%% md\n"
    }
   },
   "source": [
    "#### TOOL_SPEC 접근 방식\n",
    "\n",
    "또는 도구를 정의할 때 TOOL_SPEC 접근 방식을 사용할 수 있습니다"
   ]
  },
  {
   "cell_type": "code",
   "execution_count": null,
   "id": "574198a3-4a65-4373-ae36-1a037eb12b49",
   "metadata": {
    "pycharm": {
     "name": "#%%\n"
    }
   },
   "outputs": [],
   "source": [
    "%%writefile update_appointment.py\n",
    "import sqlite3\n",
    "from datetime import datetime\n",
    "import os\n",
    "from strands.types.tools import ToolResult, ToolUse\n",
    "from typing import Any\n",
    "\n",
    "TOOL_SPEC = {\n",
    "    \"name\": \"update_appointment\",\n",
    "    \"description\": \"약속 ID를 기반으로 약속을 업데이트합니다.\",\n",
    "    \"inputSchema\": {\n",
    "        \"json\": {\n",
    "            \"type\": \"object\",\n",
    "            \"properties\": {\n",
    "                \"appointment_id\": {\n",
    "                    \"type\": \"string\",\n",
    "                    \"description\": \"약속 ID.\"\n",
    "                },\n",
    "                \"date\": {\n",
    "                    \"type\": \"string\",\n",
    "                    \"description\": \"약속 날짜 및 시간 (형식: YYYY-MM-DD HH:MM).\"\n",
    "                },\n",
    "                \"location\": {\n",
    "                    \"type\": \"string\",\n",
    "                    \"description\": \"약속 장소.\"\n",
    "                },\n",
    "                \"title\": {\n",
    "                    \"type\": \"string\",\n",
    "                    \"description\": \"약속 제목.\"\n",
    "                },\n",
    "                \"description\": {\n",
    "                    \"type\": \"string\",\n",
    "                    \"description\": \"약속 설명.\"\n",
    "                }\n",
    "            },\n",
    "            \"required\": [\"appointment_id\"]\n",
    "        }\n",
    "    }\n",
    "}\n",
    "# 함수 이름은 도구 이름과 일치해야 함\n",
    "def update_appointment(tool: ToolUse, **kwargs: Any) -> ToolResult:\n",
    "    tool_use_id = tool[\"toolUseId\"]\n",
    "    appointment_id = tool[\"input\"][\"appointment_id\"]\n",
    "    if \"date\" in tool[\"input\"]:\n",
    "        date = tool[\"input\"][\"date\"]\n",
    "    else:\n",
    "        date = None\n",
    "    if \"location\" in tool[\"input\"]:\n",
    "        location = tool[\"input\"][\"location\"]\n",
    "    else:\n",
    "        location = None\n",
    "    if \"title\" in tool[\"input\"]:\n",
    "        title = tool[\"input\"][\"title\"]\n",
    "    else:\n",
    "        title = None\n",
    "    if \"description\" in tool[\"input\"]:\n",
    "        description = tool[\"input\"][\"description\"]\n",
    "    else:\n",
    "        description = None\n",
    "        \n",
    "    # 데이터베이스 존재 확인\n",
    "    if not os.path.exists('appointments.db'): \n",
    "        return {\n",
    "            \"toolUseId\": tool_use_id,\n",
    "            \"status\": \"error\",\n",
    "            \"content\": [{\"text\": f\"약속 {appointment_id}가 존재하지 않습니다\"}]\n",
    "        } \n",
    "    \n",
    "    # 약속 존재 확인\n",
    "    conn = sqlite3.connect('appointments.db')\n",
    "    cursor = conn.cursor()\n",
    "    \n",
    "    # appointments 테이블 존재 확인\n",
    "    try:\n",
    "        cursor.execute(\"SELECT name FROM sqlite_master WHERE type='table' AND name='appointments'\")\n",
    "        if not cursor.fetchone():\n",
    "            conn.close()\n",
    "            return {\n",
    "                \"toolUseId\": tool_use_id,\n",
    "                \"status\": \"error\",\n",
    "                \"content\": [{\"text\": f\"약속 테이블이 존재하지 않습니다\"}]\n",
    "            }\n",
    "        \n",
    "        cursor.execute(\"SELECT * FROM appointments WHERE id = ?\", (appointment_id,))\n",
    "        appointment = cursor.fetchone()\n",
    "        \n",
    "        if not appointment:\n",
    "            conn.close()\n",
    "            return {\n",
    "                \"toolUseId\": tool_use_id,\n",
    "                \"status\": \"error\",\n",
    "                \"content\": [{\"text\": f\"약속 {appointment_id}가 존재하지 않습니다\"}]\n",
    "            }\n",
    "        \n",
    "        # 날짜 형식 검증 (제공된 경우)\n",
    "        if date:\n",
    "            try:\n",
    "                datetime.strptime(date, '%Y-%m-%d %H:%M')\n",
    "            except ValueError:\n",
    "                conn.close()\n",
    "                return {\n",
    "                    \"toolUseId\": tool_use_id,\n",
    "                    \"status\": \"error\",\n",
    "                    \"content\": [{\"text\": \"날짜는 'YYYY-MM-DD HH:MM' 형식이어야 합니다\"}]\n",
    "                }\n",
    "        \n",
    "        # 업데이트 쿼리 구성\n",
    "        update_fields = []\n",
    "        params = []\n",
    "        \n",
    "        if date:\n",
    "            update_fields.append(\"date = ?\")\n",
    "            params.append(date)\n",
    "        \n",
    "        if location:\n",
    "            update_fields.append(\"location = ?\")\n",
    "            params.append(location)\n",
    "        \n",
    "        if title:\n",
    "            update_fields.append(\"title = ?\")\n",
    "            params.append(title)\n",
    "        \n",
    "        if description:\n",
    "            update_fields.append(\"description = ?\")\n",
    "            params.append(description)\n",
    "        \n",
    "        # 업데이트할 필드가 없는 경우\n",
    "        if not update_fields:\n",
    "            conn.close()\n",
    "            return {\n",
    "                \"toolUseId\": tool_use_id,\n",
    "                \"status\": \"success\",\n",
    "                \"content\": [{\"text\": \"약속을 업데이트할 필요가 없습니다. 모든 것이 설정되어 있습니다!\"}]\n",
    "            }\n",
    "        \n",
    "        # 쿼리 완성\n",
    "        query = f\"UPDATE appointments SET {', '.join(update_fields)} WHERE id = ?\"\n",
    "        params.append(appointment_id)\n",
    "        \n",
    "        cursor.execute(query, params)\n",
    "        conn.commit()\n",
    "        conn.close()\n",
    "        \n",
    "        return {\n",
    "            \"toolUseId\": tool_use_id,\n",
    "            \"status\": \"success\",\n",
    "            \"content\": [{\"text\": f\"약속 {appointment_id}가 성공적으로 업데이트되었습니다\"}]\n",
    "        }\n",
    "    \n",
    "    except sqlite3.Error as e:\n",
    "        conn.close()\n",
    "        return {\n",
    "            \"toolUseId\": tool_use_id,\n",
    "            \"status\": \"error\",\n",
    "            \"content\": [{\"text\": str(e)}]\n",
    "        }"
   ]
  },
  {
   "cell_type": "markdown",
   "id": "0944e32e-a80e-44ee-b5cb-9d318c076ba9",
   "metadata": {
    "pycharm": {
     "name": "#%% md\n"
    }
   },
   "source": [
    "이제 `list_appointments`와 `update_appointment`를 도구로 가져와보겠습니다"
   ]
  },
  {
   "cell_type": "code",
   "execution_count": null,
   "id": "ccd37708-4a04-410e-a976-bd239b884003",
   "metadata": {
    "pycharm": {
     "name": "#%%\n"
    }
   },
   "outputs": [],
   "source": [
    "import list_appointments\n",
    "import update_appointment"
   ]
  },
  {
   "cell_type": "markdown",
   "id": "e8fbc3fe-326f-4fa7-b83c-1ecb55bb1d19",
   "metadata": {
    "pycharm": {
     "name": "#%% md\n"
    }
   },
   "source": [
    "## 에이전트 생성\n",
    "\n",
    "사용자 정의 도구를 생성했으므로 이제 첫 번째 에이전트를 정의해보겠습니다. 이를 위해 에이전트가 해야 할 일과 하지 말아야 할 일을 정의하는 시스템 프롬프트를 생성해야 합니다. 그런 다음 에이전트의 기본 LLM 모델을 정의하고 내장 도구와 사용자 정의 도구를 제공합니다.\n",
    "\n",
    "#### 에이전트 시스템 프롬프트 설정\n",
    "시스템 프롬프트에서 에이전트에 대한 지침을 정의하겠습니다"
   ]
  },
  {
   "cell_type": "code",
   "execution_count": null,
   "id": "397395ba-7c84-42f3-badf-4cb1734d0008",
   "metadata": {
    "pycharm": {
     "name": "#%%\n"
    }
   },
   "outputs": [],
   "source": [
    "system_prompt = \"\"\"당신은 내 약속과 일정 관리를 전문으로 하는 도움이 되는 개인 비서입니다.\n",
    "약속 관리 도구, 계산기에 액세스할 수 있으며 현재 시간을 확인하여 내 일정을 효과적으로 정리할 수 있습니다.\n",
    "필요한 경우 업데이트할 수 있도록 항상 약속 ID를 제공해주세요\"\"\""
   ]
  },
  {
   "cell_type": "markdown",
   "id": "18fadc98-e823-4ead-b00f-ccb62d1653a3",
   "metadata": {
    "pycharm": {
     "name": "#%% md\n"
    }
   },
   "source": [
    "#### 에이전트 기본 LLM 모델 정의\n",
    "\n",
    "다음으로 에이전트의 기본 모델을 정의해보겠습니다. Strands Agents는 Amazon Bedrock 모델과 기본적으로 통합되며 모델 호출 방법을 구성할 수 있는 기능을 제공합니다. 아래에서 일부 선택적 구성이 주석 처리된 `BedrockModel` 제공자의 간단한 초기화를 볼 수 있습니다. 구성 옵션과 기본값에 대한 자세한 내용은 [Strands Agents Bedrock Model Provider 문서](https://strandsagents.com/0.1.x/user-guide/concepts/model-providers/amazon-bedrock/)에서 확인할 수 있습니다. 예제에서는 Bedrock의 `Anthropic Claude 3.7 Sonnet` 모델을 사용하겠습니다."
   ]
  },
  {
   "cell_type": "code",
   "execution_count": null,
   "id": "ecaa6e8e-5550-451e-9507-5e25018bc77d",
   "metadata": {
    "pycharm": {
     "name": "#%%\n"
    }
   },
   "outputs": [],
   "source": [
    "model = BedrockModel(\n",
    "    model_id=\"us.anthropic.claude-3-7-sonnet-20250219-v1:0\",\n",
    "    # region_name=\"us-east-1\",\n",
    "    # boto_client_config=Config(\n",
    "    #    read_timeout=900,\n",
    "    #    connect_timeout=900,\n",
    "    #    retries=dict(max_attempts=3, mode=\"adaptive\"),\n",
    "    # ),\n",
    "    # temperature=0.9,\n",
    "    # max_tokens=2048,\n",
    ")"
   ]
  },
  {
   "cell_type": "markdown",
   "id": "b68f9a35-7b75-43b9-81cb-1a6dacc5d753",
   "metadata": {
    "pycharm": {
     "name": "#%% md\n"
    }
   },
   "source": [
    "#### 내장 도구 가져오기\n",
    "\n",
    "에이전트를 구축하는 다음 단계는 Strands Agents 내장 도구를 가져오는 것입니다. Strands Agents는 선택적 패키지 `strands-tools`에서 일반적으로 사용되는 내장 도구 세트를 제공합니다. 이 저장소에서 RAG, 메모리, 파일 작업, 코드 해석 등을 위한 도구를 사용할 수 있습니다. 예제에서는 `current_time` 도구를 사용하여 에이전트에 현재 시간에 대한 정보를 제공하고 `calculator` 도구를 사용하여 수학 계산을 수행합니다"
   ]
  },
  {
   "cell_type": "code",
   "execution_count": null,
   "id": "b00643e6-f032-4c75-a031-47230ff57ea6",
   "metadata": {
    "pycharm": {
     "name": "#%%\n"
    }
   },
   "outputs": [],
   "source": [
    "from strands_tools import calculator, current_time"
   ]
  },
  {
   "cell_type": "markdown",
   "id": "5d21b669-3057-4f01-919c-cc3d43813fc9",
   "metadata": {
    "pycharm": {
     "name": "#%% md\n"
    }
   },
   "source": [
    "#### 에이전트 정의\n",
    "\n",
    "이제 필요한 모든 정보가 준비되었으므로 에이전트를 정의해보겠습니다"
   ]
  },
  {
   "cell_type": "code",
   "execution_count": null,
   "id": "e9cc4158-9c91-4814-8506-c8114221c9e4",
   "metadata": {
    "pycharm": {
     "name": "#%%\n"
    }
   },
   "outputs": [],
   "source": [
    "agent = Agent(\n",
    "    model=model,\n",
    "    system_prompt=system_prompt,\n",
    "    tools=[\n",
    "        current_time,\n",
    "        calculator,\n",
    "        create_appointment,\n",
    "        list_appointments,\n",
    "        update_appointment,\n",
    "    ],\n",
    ")"
   ]
  },
  {
   "cell_type": "markdown",
   "id": "834748c9-d129-4074-b64c-1f5eeb979e97",
   "metadata": {
    "pycharm": {
     "name": "#%% md\n"
    }
   },
   "source": [
    "## 에이전트 호출\n",
    "\n",
    "이제 인사말로 레스토랑 에이전트를 호출하고 결과를 분석해보겠습니다"
   ]
  },
  {
   "cell_type": "code",
   "execution_count": null,
   "id": "b5b8a00b-dfe6-49f8-acdd-89c350c82081",
   "metadata": {
    "pycharm": {
     "name": "#%%\n"
    }
   },
   "outputs": [],
   "source": [
    "results = agent(\"2+2는 얼마인가요?\")"
   ]
  },
  {
   "cell_type": "markdown",
   "id": "34c4dd50-b9d4-493a-92d5-6b2db487a5b3",
   "metadata": {
    "pycharm": {
     "name": "#%% md\n"
    }
   },
   "source": [
    "#### 에이전트 결과 분석\n",
    "\n",
    "좋습니다! 처음으로 에이전트를 호출했습니다! 이제 결과 객체를 살펴보겠습니다. 먼저 에이전트 객체에서 에이전트가 교환하는 메시지를 볼 수 있습니다"
   ]
  },
  {
   "cell_type": "code",
   "execution_count": null,
   "id": "4ae1385b-4821-48c3-9fd8-956cc61de6ee",
   "metadata": {
    "pycharm": {
     "name": "#%%\n"
    }
   },
   "outputs": [],
   "source": [
    "agent.messages"
   ]
  },
  {
   "cell_type": "markdown",
   "id": "e6f81a22-c289-4980-bccb-13f4235b69d8",
   "metadata": {
    "pycharm": {
     "name": "#%% md\n"
    }
   },
   "source": [
    "다음으로 결과 `metrics`를 분석하여 마지막 쿼리에 대한 에이전트 사용량을 살펴볼 수 있습니다"
   ]
  },
  {
   "cell_type": "code",
   "execution_count": null,
   "id": "20c0dd86-8ecd-419c-a8a1-5add2b02b521",
   "metadata": {
    "pycharm": {
     "name": "#%%\n"
    }
   },
   "outputs": [],
   "source": [
    "results.metrics"
   ]
  },
  {
   "cell_type": "markdown",
   "id": "beb5d753-d691-479e-8468-fe23927b6d63",
   "metadata": {
    "pycharm": {
     "name": "#%% md\n"
    }
   },
   "source": [
    "#### 후속 질문으로 에이전트 호출\n",
    "좋습니다. 이제 내일 약속을 잡아보겠습니다"
   ]
  },
  {
   "cell_type": "code",
   "execution_count": null,
   "id": "d4ed9ea3-b50c-4740-ae8a-19bd7338da45",
   "metadata": {
    "pycharm": {
     "name": "#%%\n"
    }
   },
   "outputs": [],
   "source": [
    "results = agent(\n",
    "    \"내일 오후 3시에 뉴욕에서 'Agent fun' 예약해주세요. 이 회의에서는 에이전트가 할 수 있는 모든 재미있는 일들에 대해 논의할 예정입니다\"\n",
    ")"
   ]
  },
  {
   "cell_type": "markdown",
   "id": "3a6789db-9666-4aba-b941-1b4df9e5111c",
   "metadata": {
    "pycharm": {
     "name": "#%% md\n"
    }
   },
   "source": [
    "#### 약속 업데이트\n",
    "\n",
    "이제 이 약속을 업데이트해보겠습니다"
   ]
  },
  {
   "cell_type": "code",
   "execution_count": null,
   "id": "26ac2e57-a5a0-483a-b70b-26688addf7c1",
   "metadata": {
    "pycharm": {
     "name": "#%%\n"
    }
   },
   "outputs": [],
   "source": [
    "results = agent(\"아, 실수했네요! 'Agent fun'은 실제로 워싱턴 DC에서 열립니다\")"
   ]
  },
  {
   "cell_type": "markdown",
   "id": "bb6a31ee-e3b7-4f1d-8372-3092175b6d78",
   "metadata": {
    "pycharm": {
     "name": "#%% md\n"
    }
   },
   "source": [
    "#### 에이전트 결과 분석\n",
    "에이전트 메시지와 결과 메트릭을 다시 살펴보겠습니다"
   ]
  },
  {
   "cell_type": "code",
   "execution_count": null,
   "id": "1faa13ac-4809-4a4c-b94e-d57b733d7c1e",
   "metadata": {
    "pycharm": {
     "name": "#%%\n"
    }
   },
   "outputs": [],
   "source": [
    "agent.messages"
   ]
  },
  {
   "cell_type": "code",
   "execution_count": null,
   "id": "f4fb28fc-f418-42c8-b37a-03c569101070",
   "metadata": {
    "pycharm": {
     "name": "#%%\n"
    }
   },
   "outputs": [],
   "source": [
    "results.metrics"
   ]
  },
  {
   "cell_type": "markdown",
   "id": "86054d56-51e5-40c6-9133-cd9cf5a1cbc1",
   "metadata": {
    "pycharm": {
     "name": "#%% md\n"
    }
   },
   "source": [
    "#### 메시지에서 도구 사용량 확인\n",
    "\n",
    "메시지 딕셔너리에서 도구 사용량을 자세히 살펴보겠습니다. 나중에 에이전트의 동작을 관찰하고 평가하는 방법을 보여드리겠지만, 이것이 그 방향의 첫 번째 단계입니다"
   ]
  },
  {
   "cell_type": "code",
   "execution_count": null,
   "id": "24912341-65ae-41c0-a6e2-74d548d68c99",
   "metadata": {
    "pycharm": {
     "name": "#%%\n"
    }
   },
   "outputs": [],
   "source": [
    "for m in agent.messages:\n",
    "    for content in m[\"content\"]:\n",
    "        if \"toolUse\" in content:\n",
    "            print(\"도구 사용:\")\n",
    "            tool_use = content[\"toolUse\"]\n",
    "            print(\"\\tToolUseId: \", tool_use[\"toolUseId\"])\n",
    "            print(\"\\t이름: \", tool_use[\"name\"])\n",
    "            print(\"\\t입력: \", tool_use[\"input\"])\n",
    "        if \"toolResult\" in content:\n",
    "            print(\"도구 결과:\")\n",
    "            tool_result = m[\"content\"][0][\"toolResult\"]\n",
    "            print(\"\\tToolUseId: \", tool_result[\"toolUseId\"])\n",
    "            print(\"\\t상태: \", tool_result[\"status\"])\n",
    "            print(\"\\t내용: \", tool_result[\"content\"])\n",
    "            print(\"=======================\")"
   ]
  },
  {
   "cell_type": "markdown",
   "id": "8e88a95d-bc76-4519-bfdf-2a8ab3338c73",
   "metadata": {
    "pycharm": {
     "name": "#%% md\n"
    }
   },
   "source": [
    "### 작업이 올바르게 수행되었는지 검증\n",
    "이제 데이터베이스를 확인하여 작업이 올바르게 수행되었는지 확인해보겠습니다. `Agent` 클래스는 `agent.tool.<tool_name>(<tool_params>)`를 호출하여 에이전트가 초기화된 도구를 직접 호출할 수 있는 기능을 제공합니다. 직접 도구 호출은 에이전트가 해당 도구를 직접 호출하지 않고도 도구에서 에이전트에게 정보를 제공하는 데 유용합니다. 이 직접 도구 호출을 사용하여 현재 약속을 나열할 수 있습니다:"
   ]
  },
  {
   "cell_type": "code",
   "execution_count": null,
   "id": "924e5b2f-a8bb-415c-b255-1da6403f6b8a",
   "metadata": {
    "pycharm": {
     "name": "#%%\n"
    }
   },
   "outputs": [],
   "source": [
    "list_appointments_result = agent.tool.list_appointments()\n",
    "print(json.dumps(list_appointments_result, indent=2))"
   ]
  },
  {
   "cell_type": "markdown",
   "id": "c528d7db",
   "metadata": {
    "pycharm": {
     "name": "#%% md\n"
    }
   },
   "source": [
    "도구 실행 결과가 `toolUseId`, 실행 `status`, 응답의 `content`를 포함하는 ToolResult 형식임을 알 수 있습니다. 다음과 같이 도구의 결과를 더 잘 시각화할 수 있습니다:"
   ]
  },
  {
   "cell_type": "code",
   "execution_count": null,
   "id": "bbc4dfc9",
   "metadata": {
    "pycharm": {
     "name": "#%% md\n"
    }
   },
   "outputs": [],
   "source": [
    "list_appointments_result_text_content = list_appointments_result[\"content\"][0][\"text\"]\n",
    "print(json.dumps(json.loads(list_appointments_result_text_content), indent=2))"
   ]
  },
  {
   "cell_type": "markdown",
   "id": "b4b05375",
   "metadata": {
    "pycharm": {
     "name": "#%% md\n"
    }
   },
   "source": [
    "마지막으로, 직접 도구 호출을 사용하여 도구를 실행할 때 에이전트는 이러한 실행을 메시지 기록에 기록합니다. 기본적으로 이 기능이 활성화되어 있지만 `Agent` 클래스의 `record_direct_tool_call` 부울 플래그 속성으로 비활성화할 수 있습니다."
   ]
  },
  {
   "cell_type": "code",
   "execution_count": null,
   "id": "a1a70b75",
   "metadata": {
    "pycharm": {
     "name": "#%% md\n"
    }
   },
   "outputs": [],
   "source": [
    "current_time_result = agent.tool.current_time()\n",
    "print(\"현재 시간 직접 도구 호출 결과:\")\n",
    "print(current_time_result)\n",
    "current_time_direct_tool_messages = agent.messages[-4:]\n",
    "print(\"현재 시간 직접 도구 호출 메시지:\")\n",
    "print(current_time_direct_tool_messages)\n",
    "\n",
    "agent.record_direct_tool_call = False # record_direct_tool_call을 False로 설정\n",
    "agent.tool.list_appointments()\n",
    "after_disable_record_messages = agent.messages[-4:]\n",
    "print(\"직접 도구 호출 기록을 비활성화한 후, 기록이 변경되지 않아야 합니다:\")\n",
    "print(current_time_direct_tool_messages == after_disable_record_messages)"
   ]
  },
  {
   "cell_type": "markdown",
   "id": "191c283f",
   "metadata": {
    "pycharm": {
     "name": "#%% md\n"
    }
   },
   "source": [
    "## 확장: 확장된 사고\n",
    " \n",
    "확장된 사고는 지원되는 Claude 계열 모델이 복잡한 작업에 대해 향상된 추론 기능을 활용할 수 있게 하여 최종 답변을 제공하기 전에 투명한 단계별 사고 과정을 제공합니다. 사고를 활성화하려면 Bedrock ModelProvider를 구성할 때 아래 구성을 포함할 수 있습니다. [확장된 사고에 대한 AWS 문서](https://docs.aws.amazon.com/bedrock/latest/userguide/claude-messages-extended-thinking.html)에서 자세히 알아볼 수 있습니다."
   ]
  },
  {
   "cell_type": "code",
   "execution_count": null,
   "id": "38da1353",
   "metadata": {
    "pycharm": {
     "name": "#%% md\n"
    }
   },
   "outputs": [],
   "source": [
    "thinking_model = BedrockModel(\n",
    "    model_id=\"us.anthropic.claude-3-7-sonnet-20250219-v1:0\",\n",
    "    additional_request_fields={\n",
    "        \"thinking\": {\n",
    "            \"type\": \"enabled\",\n",
    "            \"budget_tokens\": 2048,\n",
    "        }\n",
    "    },\n",
    ")"
   ]
  },
  {
   "cell_type": "markdown",
   "id": "3ef66fab",
   "metadata": {
    "pycharm": {
     "name": "#%% md\n"
    }
   },
   "source": [
    "`thinking_model`을 정의한 후 새로운 `thinking_agent`를 생성하고 호출할 수 있습니다:"
   ]
  },
  {
   "cell_type": "code",
   "execution_count": null,
   "id": "4f108899",
   "metadata": {
    "pycharm": {
     "name": "#%% md\n"
    }
   },
   "outputs": [],
   "source": [
    "thinking_system_prompt = \"\"\"당신은 내 약속과 일정 관리를 전문으로 하는 도움이 되는 개인 비서입니다.\n",
    "약속 관리 도구, 계산기에 액세스할 수 있으며 현재 시간을 확인하여 내 일정을 효과적으로 정리할 수 있습니다.\n",
    "문제를 단계별로 생각하여 답을 도출합니다.\n",
    "필요한 경우 업데이트할 수 있도록 항상 약속 ID를 제공해주세요\"\"\"\n",
    "\n",
    "thinking_agent = Agent(\n",
    "    model=thinking_model,\n",
    "    system_prompt=thinking_system_prompt,\n",
    "    tools=[\n",
    "        current_time,\n",
    "        calculator,\n",
    "        create_appointment,\n",
    "        list_appointments,\n",
    "        update_appointment,\n",
    "    ],\n",
    ")\n",
    "\n",
    "thinking_result = thinking_agent(\"내일 오후 2시에 새 약속을 추가하고 싶습니다\")"
   ]
  },
  {
   "cell_type": "markdown",
   "id": "feba72d2",
   "metadata": {
    "pycharm": {
     "name": "#%% md\n"
    }
   },
   "source": [
    "에이전트의 메시지를 출력하여 확장된 사고 기능을 더 잘 분석할 수 있습니다. 확장된 사고는 에이전트의 응답에서 `reasoningContent` 블록으로 표현됩니다."
   ]
  },
  {
   "cell_type": "code",
   "execution_count": null,
   "id": "9d1b3a6e-7253-4162-9b50-814d7700eaca",
   "metadata": {
    "pycharm": {
     "name": "#%%\n"
    }
   },
   "outputs": [],
   "source": [
    "thinking_agent.messages"
   ]
  },
  {
   "cell_type": "markdown",
   "id": "c7bfbe54-a3fd-4b55-b11f-537b1763d0ee",
   "metadata": {
    "pycharm": {
     "name": "#%% md\n"
    }
   },
   "source": [
    "## 훌륭한 작업입니다!\n",
    "다음 모듈에서 만나요. :)"
   ]
  }
 ],
 "metadata": {
  "kernelspec": {
   "display_name": "Python 3 (ipykernel)",
   "language": "python",
   "name": "python3"
  },
  "language_info": {
   "codemirror_mode": {
    "name": "ipython",
    "version": 3
   },
   "file_extension": ".py",
   "mimetype": "text/x-python",
   "name": "python",
   "nbconvert_exporter": "python",
   "pygments_lexer": "ipython3",
   "version": "3.12.9"
  }
 },
 "nbformat": 4,
 "nbformat_minor": 5
}
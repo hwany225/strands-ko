{
 "cells": [
  {
   "cell_type": "markdown",
   "metadata": {
    "pycharm": {
     "name": "#%% md\n"
    }
   },
   "source": [
    "# Strands Agents를 사용한 에이전트 스웜(Swarm) 생성"
   ]
  },
  {
   "cell_type": "markdown",
   "metadata": {
    "pycharm": {
     "name": "#%%\n"
    }
   },
   "source": [
    "## 스웜 멀티 에이전트 시스템 이해하기\n",
    "\n",
    "스웜(Swarm)은 여러 에이전트가 팀으로 협력하여 복잡한 작업을 해결하는 협업 에이전트 오케스트레이션 시스템입니다. 전통적인 순차적 또는 계층적 멀티 에이전트 시스템과 달리, 스웜은 공유 컨텍스트와 작업 메모리를 통해 에이전트 간의 자율적 조정을 가능하게 합니다.\n",
    "\n",
    "* **공유 작업 메모리**를 가진 자기 조직화 에이전트 팀\n",
    "* 에이전트 간 **도구 기반 조정**\n",
    "* 중앙 제어 없는 **자율적 에이전트 협업**\n",
    "* 에이전트 능력에 기반한 **동적 작업 분배**\n",
    "* 공유 컨텍스트를 통한 **집단 지능**\n",
    "* 텍스트, 이미지 및 기타 콘텐츠 유형 처리를 위한 **멀티모달 입력 지원**\n",
    "\n",
    "## 스웜의 작동 원리\n",
    "\n",
    "스웜은 창발적 지능(emergent intelligence)의 원리로 작동합니다. 즉, 전문화된 에이전트 그룹이 함께 작업할 때 단일 에이전트보다 더 효과적으로 문제를 해결할 수 있다는 아이디어입니다. 스웜의 각 에이전트는:\n",
    "\n",
    "1. 전체 작업 컨텍스트에 액세스할 수 있습니다\n",
    "2. 어떤 에이전트가 작업에 참여했는지 히스토리를 볼 수 있습니다\n",
    "3. 다른 에이전트가 기여한 공유 지식에 액세스할 수 있습니다\n",
    "4. 다른 전문성을 가진 에이전트에게 언제 넘겨줄지 결정할 수 있습니다\n"
   ]
  },
  {
   "cell_type": "markdown",
   "metadata": {},
   "source": [
    "## 1. 스웜 도구로 빠른 시작"
   ]
  },
  {
   "cell_type": "markdown",
   "metadata": {},
   "source": [
    "Strands Agents SDK는 멀티 에이전트 시스템의 구현을 단순화하는 내장 스웜 도구를 제공하여 사용자에게 빠른 시작을 제공합니다. 이 도구는 전문화된 에이전트 간의 자율적 조정을 통한 유연한 스웜 지능 시스템을 구현합니다.\n",
    "    \n",
    "이 예제에서:\n",
    "1. 에이전트는 스웜 도구를 사용하여 전문화된 에이전트 팀을 동적으로 생성합니다. 여기에는 연구원, 분석가, 기술 작가가 포함될 수 있습니다\n",
    "2. 다음으로 에이전트가 스웜을 실행합니다\n",
    "3. 스웜 에이전트들이 자율적으로 협업하며 필요에 따라 서로에게 작업을 넘겨줍니다\n",
    "4. 에이전트가 스웜 결과를 분석하고 사용자에게 포괄적인 응답을 제공합니다\n"
   ]
  },
  {
   "cell_type": "code",
   "execution_count": null,
   "metadata": {},
   "outputs": [],
   "source": [
    "%pip install -r requirements.txt"
   ]
  },
  {
   "cell_type": "code",
   "execution_count": null,
   "metadata": {},
   "outputs": [],
   "source": [
    "from strands import Agent\n",
    "from strands_tools import swarm"
   ]
  },
  {
   "cell_type": "markdown",
   "metadata": {
    "vscode": {
     "languageId": "markdown"
    }
   },
   "source": [
    "## 1.1 도구로서의 스웜"
   ]
  },
  {
   "cell_type": "code",
   "execution_count": null,
   "metadata": {},
   "outputs": [],
   "source": [
    "# 에이전트 초기화\n",
    "agent = Agent(model=\"us.anthropic.claude-3-7-sonnet-20250219-v1:0\",tools=[swarm])\n",
    "\n",
    "# 자연어를 통한 호출\n",
    "result = str(agent(\n",
    "    \"4개의 에이전트로 구성된 스웜을 사용하여 생성형 AI 기반 에이전트의 현재 시장 동향을 분석해주세요.\"\n",
    "))"
   ]
  },
  {
   "cell_type": "code",
   "execution_count": null,
   "metadata": {},
   "outputs": [],
   "source": [
    "print(result)"
   ]
  },
  {
   "cell_type": "markdown",
   "metadata": {},
   "source": [
    "스웜 도구는 Strands SDK의 네이티브 스웜 멀티 에이전트 패턴을 기반으로 구축된 유연한 스웜 지능 시스템을 구현합니다. 이 시스템을 통해 사용자는 공유 컨텍스트와 도구 기반 조정을 통해 자율적으로 협업하는 전문화된 AI 에이전트의 맞춤형 팀을 정의할 수 있습니다.\n",
    "\n",
    "**주요 기능:**\n",
    "- **맞춤형 에이전트 팀**: 개별 시스템 프롬프트, 에이전트별 도구 구성, 모델 설정을 가진 사용자 정의 에이전트 사양\n",
    "- **자율적 조정**: 내장된 조정 도구(handoff_to_agent, complete_swarm_task)와 모든 에이전트 간 공유 작업 메모리\n",
    "- **고급 구성**: 에이전트별 개별 모델 제공자 및 설정, 사용자 정의 가능한 도구 액세스, 포괄적인 타임아웃 및 안전 메커니즘\n",
    "- **창발적 집단 지능**: 에이전트가 자율적으로 협업 또는 핸드오프 시점을 결정하며, 능력에 기반한 동적 작업 분배\n",
    "\n",
    "스웜 도구의 전체 구현은 [Strands Tools 저장소](https://github.com/strands-agents/tools/blob/main/src/strands_tools/swarm.py)에서 확인할 수 있습니다.\n",
    "\n",
    "**주요 매개변수:**\n",
    "- `task`: 스웜이 처리할 주요 작업\n",
    "- `agents`: name, system_prompt, tools, model_provider, model_settings를 포함한 에이전트 사양 목록\n",
    "- `max_handoffs`: 허용되는 최대 에이전트 핸드오프 수 (기본값: 20)\n",
    "- `max_iterations`: 모든 에이전트에 걸친 최대 총 반복 수 (기본값: 20)\n",
    "- `execution_timeout`: 총 실행 타임아웃(초) (기본값: 900.0)\n",
    "- `node_timeout`: 개별 에이전트 타임아웃(초) (기본값: 300.0)\n",
    "- `repetitive_handoff_detection_window`: 핑퐁 동작을 확인할 최근 노드 수\n",
    "- `repetitive_handoff_min_unique_agents`: 최근 시퀀스에서 필요한 최소 고유 노드 수\n",
    "\n",
    "**스웜 도구의 작동 방식:**\n",
    "1. **에이전트 생성**: 개별 모델 제공자와 도구를 가진 사용자 사양에 기반하여 전문화된 에이전트 생성\n",
    "2. **스웜 초기화**: 조정 도구와 안전 메커니즘을 가진 Strands SDK 스웜 설정\n",
    "3. **자율적 실행**: 중앙 제어 없이 핸드오프와 공유 컨텍스트를 통한 에이전트 협업\n",
    "4. **결과 집계**: 개별 기여도를 수집하고 포괄적인 실행 메트릭 제공\n"
   ]
  },
  {
   "cell_type": "markdown",
   "metadata": {},
   "source": [
    "## 2. Strands Agents로 스웜 생성하기"
   ]
  },
  {
   "cell_type": "markdown",
   "metadata": {},
   "source": [
    "Strands Agents SDK를 사용하면 서로 다른 모델 제공자를 사용하거나 다른 구성을 가진 기존 Agent 객체를 사용하여 스웜을 생성할 수 있습니다. 스웜 시스템은 자동 핸드오프 메커니즘과 공유 컨텍스트를 통해 에이전트 간의 자율적 조정을 가능하게 하여, 에이전트가 다른 에이전트의 전문 지식이 필요할 때 동적으로 제어권을 이전할 수 있습니다.\n",
    "\n",
    "### 2.1 자동 핸드오프를 통한 에이전트 조정"
   ]
  },
  {
   "cell_type": "markdown",
   "metadata": {},
   "source": [
    "<p align=\"center\">\n",
    "    <img src=\"./images/swarm_example.png\">\n",
    "</p>"
   ]
  },
  {
   "cell_type": "markdown",
   "metadata": {},
   "source": [
    "이 조정 접근 방식에서 에이전트는 Strands SDK의 네이티브 스웜 패턴과 내장된 핸드오프 도구를 사용하여 다른 전문성이 필요할 때 다른 전문화된 에이전트에게 자율적으로 제어권을 이전합니다. 각 에이전트는 `handoff_to_agent` 및 `complete_swarm_task`와 같은 조정 도구를 자동으로 갖추게 됩니다. 다음 예제는 공유 컨텍스트와 자율적 핸드오프를 통해 협업하는 전문화된 에이전트들의 스웜을 보여줍니다:"
   ]
  },
  {
   "cell_type": "code",
   "execution_count": null,
   "metadata": {},
   "outputs": [],
   "source": [
    "# 다양한 전문성을 가진 전문화된 에이전트 생성\n",
    "research_agent = Agent(system_prompt=(\"\"\"당신은 정보 수집 및 분석을 전문으로 하는 연구 에이전트입니다.\n",
    "스웜에서의 역할은 주제에 대한 사실적 정보와 연구 인사이트를 제공하는 것입니다.\n",
    "정확한 데이터를 제공하고 문제의 핵심 측면을 식별하는 데 집중해야 합니다.\n",
    "다른 에이전트로부터 입력을 받을 때, 그들의 정보가 당신의 연구와 일치하는지 평가하세요.\n",
    "\"\"\"), \n",
    "name=\"research_agent\",model=\"us.anthropic.claude-3-7-sonnet-20250219-v1:0\")\n",
    "\n",
    "creative_agent = Agent(system_prompt=(\"\"\"당신은 혁신적인 솔루션 생성을 전문으로 하는 창의적 에이전트입니다.\n",
    "스웜에서의 역할은 틀에 얽매이지 않는 사고와 창의적 접근 방식을 제안하는 것입니다.\n",
    "다른 에이전트의 정보를 바탕으로 구축하면서 고유한 창의적 관점을 추가해야 합니다.\n",
    "다른 사람들이 고려하지 않았을 수 있는 새로운 접근 방식에 집중하세요.\n",
    "\"\"\"), \n",
    "name=\"creative_agent\",model=\"us.anthropic.claude-3-7-sonnet-20250219-v1:0\")\n",
    "\n",
    "critical_agent = Agent(system_prompt=(\"\"\"당신은 제안 분석 및 결함 찾기를 전문으로 하는 비판적 에이전트입니다.\n",
    "스웜에서의 역할은 다른 에이전트가 제안한 솔루션을 평가하고 잠재적 문제를 식별하는 것입니다.\n",
    "제안된 솔루션을 신중히 검토하고, 약점이나 간과된 부분을 찾아 개선 사항을 제안해야 합니다.\n",
    "최종 솔루션이 견고하도록 보장하면서 건설적인 비판을 하세요.\n",
    "\"\"\"), \n",
    "name=\"critical_agent\",model=\"us.anthropic.claude-3-7-sonnet-20250219-v1:0\")\n",
    "\n",
    "summarizer_agent = Agent(system_prompt=(\"\"\"당신은 정보 종합을 전문으로 하는 요약 에이전트입니다.\n",
    "스웜에서의 역할은 모든 에이전트의 인사이트를 수집하여 응집력 있는 최종 솔루션을 만드는 것입니다.\n",
    "최고의 아이디어를 결합하고 비판을 해결하여 포괄적인 응답을 만들어야 합니다.\n",
    "원래 질문을 효과적으로 해결하는 명확하고 실행 가능한 요약을 만드는 데 집중하세요.\n",
    "\"\"\"),name=\"summarizer_agent\",model=\"us.anthropic.claude-3-7-sonnet-20250219-v1:0\")"
   ]
  },
  {
   "cell_type": "markdown",
   "metadata": {},
   "source": [
    "에이전트 조정은 조정 도구를 자동으로 제공하고 공유 컨텍스트를 관리하는 Strands SDK의 네이티브 Swarm 클래스를 사용하여 구현됩니다:"
   ]
  },
  {
   "cell_type": "code",
   "execution_count": null,
   "metadata": {},
   "outputs": [],
   "source": [
    "from strands.multiagent import Swarm\n",
    "\n",
    "# 이러한 에이전트들로 스웜 생성\n",
    "swarm = Swarm(\n",
    "    [research_agent, creative_agent, critical_agent, summarizer_agent],\n",
    "    max_handoffs=20,\n",
    "    max_iterations=20,\n",
    "    execution_timeout=900.0,  # 15분\n",
    "    node_timeout=300.0,       # 에이전트당 5분\n",
    "    repetitive_handoff_detection_window=8,  # 최근 8번의 핸드오프에서 >= 3개의 고유 에이전트가 있어야 함\n",
    "    repetitive_handoff_min_unique_agents=3\n",
    ")"
   ]
  },
  {
   "cell_type": "markdown",
   "metadata": {},
   "source": [
    "스웜은 자율적 에이전트 조정을 통해 작동하며, 에이전트들이 자신의 전문성과 작업 요구사항에 따라 언제 핸드오프할지 결정합니다:"
   ]
  },
  {
   "cell_type": "code",
   "execution_count": null,
   "metadata": {},
   "outputs": [],
   "source": [
    "# 작업에 대해 스웜 실행\n",
    "result = swarm(\"에이전틱 AI를 설명하는 블로그 포스트를 작성한 다음 소셜 미디어 포스트용 요약을 만들어주세요.\")"
   ]
  },
  {
   "cell_type": "code",
   "execution_count": null,
   "metadata": {},
   "outputs": [],
   "source": [
    "# 최종 결과 액세스\n",
    "print(f\"상태: {result.status}\")"
   ]
  },
  {
   "cell_type": "markdown",
   "metadata": {},
   "source": [
    "이 예제에서:\n",
    "\n",
    "* research_agent가 에이전틱 AI에 대한 정보를 수집하는 것으로 시작할 수 있습니다\n",
    "* creative_agent에게 핸드오프하여 매력적인 콘텐츠와 구조를 개발합니다\n",
    "* critical_agent가 정확성과 완성도를 위해 콘텐츠를 검토합니다\n",
    "* 마지막으로 summarizer_agent가 모든 기여를 응집력 있는 블로그 포스트로 종합합니다\n",
    "* 에이전트들은 필요에 따라 여러 번 핸드오프할 수 있으며, 스웜이 자동으로 조정을 관리합니다\n"
   ]
  },
  {
   "cell_type": "code",
   "execution_count": null,
   "metadata": {},
   "outputs": [],
   "source": [
    "# 어떤 에이전트가 참여했는지 확인\n",
    "for node in result.node_history:\n",
    "    print(f\"에이전트: {node.node_id}\")\n",
    "\n",
    "# 특정 노드의 결과 가져오기\n",
    "research_result = result.results[\"research_agent\"].result\n",
    "print(f\"연구: {research_result}\")\n",
    "\n",
    "# 성능 메트릭 가져오기\n",
    "print(f\"총 반복 수: {result.execution_count}\")\n",
    "print(f\"실행 시간: {result.execution_time}ms\")\n",
    "print(f\"토큰 사용량: {result.accumulated_usage}\")"
   ]
  },
  {
   "cell_type": "markdown",
   "metadata": {},
   "source": [
    "스웜 시스템은 에이전트 조정, 공유 컨텍스트, 핸드오프 메커니즘을 자동으로 관리합니다. 에이전트들은 다른 전문가에게 제어권을 이전할 시점을 자율적으로 결정할 수 있어, 타임아웃 보호 및 반복적 핸드오프 감지와 같은 내장된 안전 기능을 갖춘 원활한 협업 워크플로를 만듭니다.\n"
   ]
  },
  {
   "cell_type": "markdown",
   "metadata": {},
   "source": [
    "## 스웜을 사용해야 하는 경우:\n",
    "\n",
    "- 다양한 전문성과 전문 지식이 필요한 복잡한 작업의 경우\n",
    "- 다양한 관점과 협업적 문제 해결이 필요한 경우\n",
    "- 자율적 에이전트 조정과 집단 지능의 이점을 얻을 수 있는 작업의 경우\n",
    "- 텍스트와 이미지를 함께 처리하는 멀티모달 입력을 다룰 때\n",
    "- 에이전트 능력에 기반한 동적 작업 분배가 필요한 프로젝트의 경우\n",
    "\n",
    "## 모범 사례\n",
    "\n",
    "1. **전문화된 에이전트 생성**: 스웜의 각 에이전트에 대해 명확한 역할을 정의하세요\n",
    "2. **설명적인 에이전트 이름 사용**: 이름은 에이전트의 전문성을 반영해야 합니다\n",
    "3. **적절한 타임아웃 설정**: 작업 복잡성과 예상 실행 시간에 따라 조정하세요\n",
    "4. **반복적 핸드오프 감지 활성화**: 핑퐁 동작을 방지하기 위해 `repetitive_handoff_detection_window`와 `repetitive_handoff_min_unique_agents`에 적절한 값을 설정하세요\n",
    "5. **다양한 전문성 포함**: 스웜에 상호 보완적인 기술을 가진 에이전트들이 있는지 확인하세요\n",
    "6. **에이전트 설명 제공**: 다른 에이전트들이 그들의 능력을 이해할 수 있도록 에이전트에 설명을 추가하세요\n",
    "7. **멀티모달 입력 활용**: 이미지를 포함한 풍부한 입력을 위해 ContentBlocks를 사용하세요\n",
    "\n",
    "## 결론\n",
    "\n",
    "멀티 에이전트 스웜은 창발적 집단 지능을 통해 복잡한 문제를 해결합니다. Strands Agents SDK는 자율적으로 협업하는 맞춤형 에이전트 팀을 만들기 위한 유연한 스웜 도구와 네이티브 Swarm 클래스를 모두 제공합니다. 개별 모델 제공자, 도구, 구성을 가진 전문화된 에이전트에 작업을 분배함으로써, 스웜은 혼자 작업하는 단일 에이전트보다 더 나은 결과를 달성합니다. 내장된 조정 도구, 공유 컨텍스트, 포괄적인 안전 메커니즘을 통해 개발자는 자기 조직화 협업을 통해 복잡하고 다면적인 문제를 처리하는 정교한 멀티 에이전트 시스템을 만들 수 있습니다.\n",
    "\n",
    "스웜에 대한 자세한 내용은 [Strands 문서](https://strandsagents.com/latest/documentation/docs/user-guide/concepts/multi-agent/swarm/)를 확인하세요"
   ]
  }
 ],
 "metadata": {
  "kernelspec": {
   "display_name": ".venv",
   "language": "python",
   "name": "python3"
  },
  "language_info": {
   "codemirror_mode": {
    "name": "ipython",
    "version": 3
   },
   "file_extension": ".py",
   "mimetype": "text/x-python",
   "name": "python",
   "nbconvert_exporter": "python",
   "pygments_lexer": "ipython3",
   "version": "3.13.3"
  }
 },
 "nbformat": 4,
 "nbformat_minor": 4
}